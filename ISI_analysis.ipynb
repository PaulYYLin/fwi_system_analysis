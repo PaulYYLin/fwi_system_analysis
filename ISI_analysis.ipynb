{
 "cells": [
  {
   "cell_type": "markdown",
   "metadata": {},
   "source": [
    "\n",
    "# Impact of Initial Spread Rate on Final Wildfire Outcomes\n",
    "\n",
    "### Reaserch Topic\n",
    "This study investigates the impact of initial spread rate on the final outcomes of wildfires, focusing on total burned area, duration, and damage potential. Using the Initial Spread Index (ISI) as a primary metric, alongside additional variables such as wind speed, temperature, Buildup Index (BUI), and precipitation, this research aims to understand **how early fire dynamics influence the overall intensity and persistence of wildfires**.\n"
   ]
  },
  {
   "cell_type": "code",
   "execution_count": 9,
   "metadata": {},
   "outputs": [],
   "source": [
    "import xarray as xr\n",
    "import matplotlib.pyplot as plt\n",
    "import cartopy.crs as ccrs\n",
    "import cartopy.feature as cfeature\n",
    "import pandas as pd\n",
    "import dask.array as da\n",
    "from nc_operation import nc_operation"
   ]
  },
  {
   "cell_type": "code",
   "execution_count": 17,
   "metadata": {},
   "outputs": [
    {
     "name": "stderr",
     "output_type": "stream",
     "text": [
      "/Users/paullin/Desktop/DATA604-Project/env/lib/python3.10/site-packages/distributed/node.py:187: UserWarning: Port 8787 is already in use.\n",
      "Perhaps you already have a cluster running?\n",
      "Hosting the HTTP server on port 58340 instead\n",
      "  warnings.warn(\n"
     ]
    },
    {
     "name": "stdout",
     "output_type": "stream",
     "text": [
      "Loading data from existing Zarr file...\n"
     ]
    }
   ],
   "source": [
    "INDEX_TYPE = 'ISI'\n",
    "nco = nc_operation(file_path_pattern=f'ISI/initial_spread_index_*.nc', index_type=INDEX_TYPE, start_year=2019, end_year=2020)"
   ]
  },
  {
   "cell_type": "code",
   "execution_count": 11,
   "metadata": {},
   "outputs": [
    {
     "name": "stdout",
     "output_type": "stream",
     "text": [
      "Latitude:  83.0 41.0\n",
      "Longitude:  308.0 219.0\n"
     ]
    }
   ],
   "source": [
    "# Extract Map Data\n",
    "canada_data = nco.extract_map(nco.data)\n",
    "print( 'Latitude: ', float(max(canada_data['Latitude'])), float(min(canada_data['Latitude'])))\n",
    "print( 'Longitude: ', float(max(canada_data['Longitude'])), float(min(canada_data['Longitude'])))"
   ]
  },
  {
   "cell_type": "code",
   "execution_count": 12,
   "metadata": {},
   "outputs": [
    {
     "name": "stdout",
     "output_type": "stream",
     "text": [
      "Date Range:  2020-01-02  to  2021-01-01\n"
     ]
    }
   ],
   "source": [
    "print('Date Range: ',min(canada_data['Time']).dt.date.values,' to ',max(canada_data['Time']).dt.date.values)"
   ]
  },
  {
   "cell_type": "code",
   "execution_count": 13,
   "metadata": {},
   "outputs": [],
   "source": [
    "monthly_isi = canada_data['ISI'].resample(Time='1ME').mean()"
   ]
  },
  {
   "cell_type": "code",
   "execution_count": 16,
   "metadata": {},
   "outputs": [
    {
     "data": {
      "text/html": [
       "<div style='display: flex; justify-content: flex-start; flex-wrap: wrap;'><img src='maps/map_2020_09.png' style='margin-right: 10px; height: 200px;'/><img src='maps/map_2020_10.png' style='margin-right: 10px; height: 200px;'/><img src='maps/map_2020_11.png' style='margin-right: 10px; height: 200px;'/><img src='maps/map_2020_12.png' style='margin-right: 10px; height: 200px;'/></div>"
      ],
      "text/plain": [
       "<IPython.core.display.HTML object>"
      ]
     },
     "metadata": {},
     "output_type": "display_data"
    }
   ],
   "source": [
    "nco.show_map_for_date_range(monthly_isi, 2020, 9, 2020, 12)"
   ]
  },
  {
   "cell_type": "code",
   "execution_count": null,
   "metadata": {},
   "outputs": [],
   "source": []
  }
 ],
 "metadata": {
  "kernelspec": {
   "display_name": "Python 3.10.5 ('env': venv)",
   "language": "python",
   "name": "python3"
  },
  "language_info": {
   "codemirror_mode": {
    "name": "ipython",
    "version": 3
   },
   "file_extension": ".py",
   "mimetype": "text/x-python",
   "name": "python",
   "nbconvert_exporter": "python",
   "pygments_lexer": "ipython3",
   "version": "3.10.5"
  },
  "orig_nbformat": 4,
  "vscode": {
   "interpreter": {
    "hash": "c1e9ce4b3714a04a1ceec89c05b58db2b32351f42b6c378972115701f4286dd2"
   }
  }
 },
 "nbformat": 4,
 "nbformat_minor": 2
}
