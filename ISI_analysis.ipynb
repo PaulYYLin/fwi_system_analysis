{
 "cells": [
  {
   "cell_type": "markdown",
   "metadata": {},
   "source": [
    "\n",
    "# Impact of Initial Spread Rate on Final Wildfire Outcomes\n",
    "\n",
    "### Reaserch Topic\n",
    "This study investigates the impact of initial spread rate on the final outcomes of wildfires, focusing on total burned area, duration, and damage potential. Using the Initial Spread Index (ISI) as a primary metric, alongside additional variables such as wind speed, temperature, Buildup Index (BUI), and precipitation, this research aims to understand **how early fire dynamics influence the overall intensity and persistence of wildfires**.\n"
   ]
  },
  {
   "cell_type": "code",
   "execution_count": 1,
   "metadata": {},
   "outputs": [],
   "source": [
    "import xarray as xr\n",
    "import matplotlib.pyplot as plt\n",
    "import cartopy.crs as ccrs\n",
    "import cartopy.feature as cfeature\n",
    "import pandas as pd\n",
    "import dask.array as da\n",
    "from nc_operation import nc_operation"
   ]
  },
  {
   "cell_type": "code",
   "execution_count": 2,
   "metadata": {},
   "outputs": [
    {
     "name": "stdout",
     "output_type": "stream",
     "text": [
      "Loading data from existing Zarr file...\n"
     ]
    }
   ],
   "source": [
    "INDEX_TYPE = 'ISI'\n",
    "nco = nc_operation(file_path_pattern=f'ISI_dataset/initial_spread_index_*.nc', index_type=INDEX_TYPE, start_year=2011, end_year=2020)"
   ]
  },
  {
   "cell_type": "code",
   "execution_count": 3,
   "metadata": {},
   "outputs": [
    {
     "name": "stdout",
     "output_type": "stream",
     "text": [
      "Coordinates:\n",
      "  * Latitude   (Latitude) float64 360B 60.0 59.75 59.5 59.25 ... 49.5 49.25 49.0\n",
      "  * Longitude  (Longitude) float64 328B 245.0 245.2 245.5 ... 254.5 254.8 255.0\n",
      "  * Time       (Time) datetime64[ns] 26kB 2011-01-01 2011-01-02 ... 2020-12-31\n"
     ]
    }
   ],
   "source": [
    "# Verify Data Latitude: 49~60,  Longitude:245~255, Time: 2011-01-01~2020-12-31\n",
    "alberta_data = nco.data\n",
    "print(alberta_data.coords)"
   ]
  },
  {
   "cell_type": "code",
   "execution_count": 4,
   "metadata": {},
   "outputs": [],
   "source": [
    "monthly_isi = alberta_data['ISI'].resample(Time='1ME').mean()"
   ]
  },
  {
   "cell_type": "code",
   "execution_count": 5,
   "metadata": {},
   "outputs": [
    {
     "name": "stdout",
     "output_type": "stream",
     "text": [
      "Coordinates:\n",
      "  * Latitude   (Latitude) float64 360B 60.0 59.75 59.5 59.25 ... 49.5 49.25 49.0\n",
      "  * Longitude  (Longitude) float64 328B 245.0 245.2 245.5 ... 254.5 254.8 255.0\n",
      "  * Time       (Time) datetime64[ns] 960B 2011-01-31 2011-02-28 ... 2020-12-31\n"
     ]
    }
   ],
   "source": [
    "print(monthly_isi.coords)"
   ]
  },
  {
   "cell_type": "code",
   "execution_count": 6,
   "metadata": {},
   "outputs": [
    {
     "data": {
      "text/html": [
       "<div style='display: flex; justify-content: flex-start; flex-wrap: wrap; '><img src='maps/map_2011_03.png' style='margin-right: 10px; height: 200px;'/><img src='maps/map_2011_04.png' style='margin-right: 10px; height: 200px;'/><img src='maps/map_2011_05.png' style='margin-right: 10px; height: 200px;'/>'</divy"
      ],
      "text/plain": [
       "<IPython.core.display.HTML object>"
      ]
     },
     "metadata": {},
     "output_type": "display_data"
    }
   ],
   "source": [
    "nco.show_map_for_date_range(monthly_isi, 2011, 3, 2011, 5)"
   ]
  },
  {
   "cell_type": "code",
   "execution_count": null,
   "metadata": {},
   "outputs": [],
   "source": []
  }
 ],
 "metadata": {
  "kernelspec": {
   "display_name": "Python 3.10.5 ('env': venv)",
   "language": "python",
   "name": "python3"
  },
  "language_info": {
   "codemirror_mode": {
    "name": "ipython",
    "version": 3
   },
   "file_extension": ".py",
   "mimetype": "text/x-python",
   "name": "python",
   "nbconvert_exporter": "python",
   "pygments_lexer": "ipython3",
   "version": "3.10.5"
  },
  "orig_nbformat": 4,
  "vscode": {
   "interpreter": {
    "hash": "c1e9ce4b3714a04a1ceec89c05b58db2b32351f42b6c378972115701f4286dd2"
   }
  }
 },
 "nbformat": 4,
 "nbformat_minor": 2
}
